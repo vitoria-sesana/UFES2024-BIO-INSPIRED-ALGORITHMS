{
 "cells": [
  {
   "cell_type": "code",
   "execution_count": 529,
   "metadata": {},
   "outputs": [],
   "source": [
    "import math\n",
    "import random # biblioteca para gerar valores aleatórios e embaralhar posição dos vetores\n",
    "import copy # copiar variáveis \n",
    "import numpy as np\n",
    "from scipy.stats import wrapcauchy # pegar valores da distribuição de cauchy\n"
   ]
  },
  {
   "cell_type": "code",
   "execution_count": 530,
   "metadata": {},
   "outputs": [],
   "source": [
    "# função para criar novos possíveis caminhos\n",
    "def f_embaralhar_caminho(vetor):\n",
    "    vetor_embaralhado = copy.copy(vetor)  # Cria uma cópia do vetor original\n",
    "    random.shuffle(vetor_embaralhado)  # Embaralha a cópia\n",
    "    vetor_embaralhado.append(vetor_embaralhado[0]) # Adiciona o primeiro caminho como sendo o último\n",
    "    return vetor_embaralhado"
   ]
  },
  {
   "cell_type": "code",
   "execution_count": 531,
   "metadata": {},
   "outputs": [],
   "source": [
    "# função para coletar o índice dos nomes das cidades\n",
    "# o resultado será utilizado para relacionar o possível caminho com a matriz de distâncias\n",
    "def f_indices_vetor(vetor_alvo, vetor_referencia):\n",
    "    indices = []\n",
    "    for elemento in vetor_alvo:\n",
    "        try:\n",
    "            indice = vetor_referencia.index(elemento)\n",
    "            indices.append(indice)\n",
    "        except ValueError:\n",
    "            indices.append(None)  \n",
    "    return indices"
   ]
  },
  {
   "cell_type": "code",
   "execution_count": 532,
   "metadata": {},
   "outputs": [],
   "source": [
    "# função a ser minimizada\n",
    "# cálculo da distância percorrida\n",
    "def f(vetor_caminho, matriz_distancias, vetor_referencia):\n",
    "    vetor_index_caminho = f_indices_vetor(vetor_caminho, vetor_referencia) # colentando os índices do caminho proposto\n",
    "    distancias_caminho = [] \n",
    "    for i in range(0, (len(vetor_index_caminho)-1), 1):\n",
    "        valor_distancia_i = matriz_distancias[vetor_index_caminho[i]][vetor_index_caminho[i+1]] # valor da distância entre a cidade i e i+1\n",
    "        distancias_caminho.append(valor_distancia_i)\n",
    "        soma_total_distancia = np.sum(distancias_caminho) # somando as distâncias\n",
    "    return soma_total_distancia"
   ]
  },
  {
   "cell_type": "code",
   "execution_count": 533,
   "metadata": {},
   "outputs": [],
   "source": [
    "# função têmpera simulada para o problema do caixeiro viajante\n",
    "def simulated_annealing(v_nome_cidades, v_solucao_inicial, m_distancia_cidades , T0, alpha, n_iterations): \n",
    "    x = v_solucao_inicial # valor inicial de x\n",
    "    T = T0 # temperatura inicial, que será atualizada a cada iteração\n",
    "\n",
    "    for k in range(n_iterations):\n",
    "        # geração de outro caminho a ser percorrido\n",
    "        x_prime = f_embaralhar_caminho(v_nome_cidades) \n",
    "\n",
    "        # cálculo das distâncias totais dos dois caminhos a serem comparados\n",
    "        distancia_x1 = f(x, m_distancia_cidades, v_nome_cidades)\n",
    "        distancia_x2 = f(x_prime, m_distancia_cidades, v_nome_cidades)\n",
    "\n",
    "        # cálculo da diferença de distância\n",
    "        delta_E = distancia_x2 - distancia_x1\n",
    "\n",
    "        # aceite o novo caminho com probabilidade e^(-delta_E / T) \n",
    "        # se a diferença de energia for negativa ou a probabilidade for menor que e^(-delta_E / T), aceite o novo candidato\n",
    "        if delta_E < 0 or random.random() < math.exp(-delta_E / T): \n",
    "            x = x_prime\n",
    "\n",
    "        # Atualize a temperatura\n",
    "        T = T * alpha # Atualiza a temperatura multiplicando pelo fator de resfriamento, valor entre 0 e 1, geralmente próximo de 1, com valores acima de 0.8 e menores que 0.99.\n",
    "\n",
    "    return x"
   ]
  },
  {
   "cell_type": "code",
   "execution_count": 534,
   "metadata": {},
   "outputs": [
    {
     "name": "stderr",
     "output_type": "stream",
     "text": [
      "C:\\Users\\Vitoria\\AppData\\Local\\Temp\\ipykernel_20336\\2320574549.py:19: RuntimeWarning: overflow encountered in scalar divide\n",
      "  if delta_E < 0 or random.random() < math.exp(-delta_E / T):\n"
     ]
    },
    {
     "name": "stdout",
     "output_type": "stream",
     "text": [
      "1º Município a ser visitado: Vitoria\n",
      "2º Município a ser visitado: Guarapari\n",
      "3º Município a ser visitado: Viana\n",
      "4º Município a ser visitado: Cariacica\n",
      "5º Município a ser visitado: Serra\n",
      "6º Município a ser visitado: Vitoria\n",
      "Distância total percorrida em km: 181\n"
     ]
    }
   ],
   "source": [
    "# exemplo ----------------------------------------------------------------------------\n",
    "\n",
    "cidades = [\"Cariacica\", \"Guarapari\", \"Serra\", \"Viana\", \"Vitoria\"] # nome dos municípios\n",
    "\n",
    "distancias = [[ 0.  ,  57. ,  29. ,  14.6 , 16. ],\n",
    "              [ 57. ,  0.  ,  77.2,  42.5 , 57.8],\n",
    "              [ 29. ,  77.2,  0.  ,  35.9 , 29.6],\n",
    "              [ 14.6,  42.5,  35.9,  0.   , 25],\n",
    "              [ 16. ,  57.8,  29.6,  25 , 0.  ]] # distância entre os municípios\n",
    "\n",
    "solucao_inicial = [\"Serra\", \"Guarapari\", \"Cariacica\", \"Viana\", \"Vitoria\", \"Serra\"] # proposta de caminho inicial\n",
    "\n",
    "T0 = 100.0 # Temperatura inicial\n",
    "alpha = 0.8 # Fator de resfriamento\n",
    "num_iterations = 10000 # Número de iterações\n",
    "\n",
    "resultado = simulated_annealing(v_nome_cidades = cidades, v_solucao_inicial = solucao_inicial, m_distancia_cidades = distancias, T0 =T0, alpha = alpha, n_iterations = num_iterations) # resultado da simulação\n",
    "\n",
    "# Resultados do caixeiro viajante\n",
    "for indice, valor in enumerate(resultado):\n",
    "    print(f\"{indice + 1}º Município a ser visitado: {valor}\")\n",
    "print(f\"Distância total percorrida em km: {round(f(resultado, distancias, solucao_inicial))}\")"
   ]
  }
 ],
 "metadata": {
  "kernelspec": {
   "display_name": "Python 3",
   "language": "python",
   "name": "python3"
  },
  "language_info": {
   "codemirror_mode": {
    "name": "ipython",
    "version": 3
   },
   "file_extension": ".py",
   "mimetype": "text/x-python",
   "name": "python",
   "nbconvert_exporter": "python",
   "pygments_lexer": "ipython3",
   "version": "3.11.2"
  }
 },
 "nbformat": 4,
 "nbformat_minor": 2
}
