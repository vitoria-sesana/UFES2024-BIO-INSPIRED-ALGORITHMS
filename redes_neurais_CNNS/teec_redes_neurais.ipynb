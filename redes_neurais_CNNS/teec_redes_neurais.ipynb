{
  "nbformat": 4,
  "nbformat_minor": 0,
  "metadata": {
    "colab": {
      "provenance": []
    },
    "kernelspec": {
      "name": "python3",
      "display_name": "Python 3"
    },
    "language_info": {
      "name": "python"
    }
  },
  "cells": [
    {
      "cell_type": "code",
      "source": [
        "# rede neurais mlp -----------------------------------------------------------------------------------------------------------\n",
        "# multi layer percepton\n",
        "\n",
        "\n",
        "# redes neurais convolucionais (cnns) -----------------------------------------------------------------------------------------------------------\n",
        "# achata as matrizes para condensar as informações importantes\n",
        "# https://adamharley.com/nn_vis/cnn/2d.html\n",
        "# matriz e transforma em vetor linha\n",
        "# depende da resolução\n",
        "# a redução\n",
        "# camada de convolução e pooling  flatinnug\n",
        "# detector de caracteristicas\n",
        "# filtros para destacar as informações https://setosa.io/ev/image-kernels/ (convoluções)\n",
        "# pooling -> achatar a imagem\n",
        "#  função de maior informação\n",
        "# pega onde tem a região de maior concentração\n",
        "# transforma a matriz em linha\n",
        "# e faz a rede neural\n",
        "# multi layer percepton\n",
        "\n",
        "# redes neurais recorrente -----------------------------------------------------------------------------------------------------------------\n",
        "# há uma retroalimentação"
      ],
      "metadata": {
        "id": "7V58SKmJBVER"
      },
      "execution_count": null,
      "outputs": []
    },
    {
      "cell_type": "code",
      "execution_count": null,
      "metadata": {
        "id": "L6IXW2zABIkC"
      },
      "outputs": [],
      "source": [
        "import matplotlib.pyplot as plt\n",
        "from keras.datasets import mnist # manuscritos\n",
        "from keras.models import Sequential # ordem da sequencia da saida\n",
        "# recalculo do peso dos erros até que o erro seja pequeno\n",
        "# acuracia precisão sensibilidade\n",
        "# erro é do lado contrario, calcula a função de perda\n",
        "# para diminuir o erro\n",
        "# gradiende descente\n",
        "from keras.layers import Dense, Flatten, Dropout\n",
        "# dropout = diminuir overfitting, da pra fazer com o lasso (atribui 0) e o ridge (diminui proximo ao 0)\n",
        "from tensorflow.keras.utils import to_categorical # 0 e 255 (color) para 0 e 1\n",
        "# melhor trabalhar com escala de cinza, mesma informação com um número reduzido de informações\n",
        "from keras.layers import Conv2D, MaxPooling2D # redes neurais CNN 2D, há o 3d mas n vamos trabalhar\n",
        "# tensorflow é o framework é o deep learning da google, facebook é pytorch, HUAWEI tbm mas é menos utilizadospor conta do embarque americano\n",
        "from tensorflow.keras.layers import BatchNormalization\n"
      ]
    },
    {
      "cell_type": "code",
      "source": [
        "(X_treinamento, y_treinamento), (X_teste, y_teste) = mnist.load_data()\n",
        "plt.imshow(X_treinamento[0], cmap='gray')\n",
        "plt.title('Classe'  + str(y_treinamento[1]))\n",
        "print(X_treinamento.shape)\n",
        "print(y_treinamento.shape)\n",
        "# 28 x 28 pixels\n",
        "# saída única\n",
        "# 60 mil exemplos"
      ],
      "metadata": {
        "colab": {
          "base_uri": "https://localhost:8080/",
          "height": 487
        },
        "id": "qrM8Dlc9BYPB",
        "outputId": "4c106f9f-b333-4aaf-b200-d2803693c45e"
      },
      "execution_count": null,
      "outputs": [
        {
          "output_type": "stream",
          "name": "stdout",
          "text": [
            "(60000, 28, 28)\n",
            "(60000,)\n"
          ]
        },
        {
          "output_type": "display_data",
          "data": {
            "text/plain": [
              "<Figure size 640x480 with 1 Axes>"
            ],
            "image/png": "[encoded data removed]"
          },
          "metadata": {}
        }
      ]
    },
    {
      "cell_type": "code",
      "source": [
        "previsores_treinamento = X_treinamento.reshape(X_treinamento.shape[0], 28, 28, 1) # valores de 0 255 para 0 a 1 e não sera numeros naturais e sim reais\n",
        "previsores_testes = X_teste.reshape(X_teste.shape[0], 28, 28, 1)\n",
        "previsores_testes = previsores_testes.astype('float32') / 255\n",
        "previsores_treinamento = previsores_treinamento.astype('float32') / 255"
      ],
      "metadata": {
        "id": "cqXhhP_OCBWx"
      },
      "execution_count": null,
      "outputs": []
    },
    {
      "cell_type": "code",
      "source": [
        "classe_treinamento = to_categorical(y_treinamento, 10)\n",
        "classe_teste = to_categorical(y_teste, 10)\n",
        "print(classe_treinamento[0])\n",
        "print(classe_treinamento)"
      ],
      "metadata": {
        "colab": {
          "base_uri": "https://localhost:8080/"
        },
        "id": "PCwl8ms-DHBx",
        "outputId": "d1880d92-301b-4e75-b9f2-6867ec407d36"
      },
      "execution_count": null,
      "outputs": [
        {
          "output_type": "stream",
          "name": "stdout",
          "text": [
            "[0. 0. 0. 0. 0. 1. 0. 0. 0. 0.]\n",
            "[[0. 0. 0. ... 0. 0. 0.]\n",
            " [1. 0. 0. ... 0. 0. 0.]\n",
            " [0. 0. 0. ... 0. 0. 0.]\n",
            " ...\n",
            " [0. 0. 0. ... 0. 0. 0.]\n",
            " [0. 0. 0. ... 0. 0. 0.]\n",
            " [0. 0. 0. ... 0. 1. 0.]]\n"
          ]
        }
      ]
    },
    {
      "cell_type": "code",
      "source": [
        "classificador = Sequential()\n",
        "# primeira camada\n",
        "classificador.add(Conv2D(32, (3,3), input_shape = (28, 28, 1), activation = 'relu'))\n",
        "classificador.add(BatchNormalization()) # media proxima de 0 e dp proximo de 1 para ter controle do gradiente, ele não pode \"explodir\", não pode ser pequeno demora pra chegar tempo de processamento e nem grande, n chega na solução\n",
        "classificador.add(MaxPooling2D(pool_size=(2,2)))\n",
        "# segunda camada\n",
        "classificador.add(Conv2D(32, (3,3), activation = 'relu')) # input shape não se coloca nas demais camdas, apenas na primeira\n",
        "classificador.add(BatchNormalization())\n",
        "classificador.add(MaxPooling2D(pool_size=(2,2)))\n",
        "# só coloca o flatten no final\n",
        "classificador.add(Flatten()) # achatar"
      ],
      "metadata": {
        "id": "BY_FvcG8Db_M"
      },
      "execution_count": null,
      "outputs": []
    },
    {
      "cell_type": "code",
      "source": [
        "classificador.add(Dense(units = 128, activation = 'relu')) # relu = função de ativação\n",
        "classificador.add(Dropout(0.2)) # corta arestas sem critério e isso diminui a complexidade, tira overffiting\n",
        "classificador.add(Dense(units = 128, activation = 'relu'))\n",
        "classificador.add(Dense(units = 10, activation = 'softmax'))\n",
        "classificador.compile(optimizer = 'adam', loss = 'categorical_crossentropy', metrics=['accuracy'])\n",
        "classificador.fit(previsores_treinamento, classe_treinamento, epochs = 2, batch_size=100, validation_data=(previsores_testes, classe_teste))"
      ],
      "metadata": {
        "colab": {
          "base_uri": "https://localhost:8080/"
        },
        "id": "eP3-1WEVHCNb",
        "outputId": "3ec82287-3f77-45ea-dc91-46f971fb534f"
      },
      "execution_count": null,
      "outputs": [
        {
          "output_type": "stream",
          "name": "stdout",
          "text": [
            "Epoch 1/2\n",
            "600/600 [==============================] - 53s 85ms/step - loss: 1.2052 - accuracy: 0.4957 - val_loss: 0.4777 - val_accuracy: 0.8272\n",
            "Epoch 2/2\n",
            "600/600 [==============================] - 55s 91ms/step - loss: 0.3331 - accuracy: 0.8642 - val_loss: 0.2670 - val_accuracy: 0.8761\n"
          ]
        },
        {
          "output_type": "execute_result",
          "data": {
            "text/plain": [
              "<keras.src.callbacks.History at 0x792d425ea200>"
            ]
          },
          "metadata": {},
          "execution_count": 30
        }
      ]
    }
  ]
}