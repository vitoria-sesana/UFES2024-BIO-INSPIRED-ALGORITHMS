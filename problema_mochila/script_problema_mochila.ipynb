{
 "cells": [
  {
   "cell_type": "code",
   "execution_count": 11,
   "metadata": {},
   "outputs": [],
   "source": [
    "import numpy as np\n",
    "import pandas as pd\n",
    "import random\n",
    "from functools import partial"
   ]
  },
  {
   "cell_type": "code",
   "execution_count": 12,
   "metadata": {},
   "outputs": [],
   "source": [
    "# Representação do indivíduo\n",
    "# Função de aptidão\n",
    "# Seleção de pais\n",
    "# Operadores genéticos (crossover e mutação)\n",
    "# Critério de parada"
   ]
  },
  {
   "cell_type": "code",
   "execution_count": 13,
   "metadata": {},
   "outputs": [],
   "source": [
    "# CONCEITOS DO CÓDIGO GENÉTRICO\n",
    "\n",
    "# O que é o indivíduo?\n",
    "# é a mochila\n",
    "\n",
    "# o que é o gene do individuo?\n",
    "# são os itens escolhidos pelos mochileiro, variando de 1 a 5, cada item possui seu valor e peso\n",
    "\n",
    "# O que é a população? \n",
    "# São N quantidades de indivíduos\n",
    "\n",
    "# Os pais são a seleção dos dois indivíduos\n",
    "\n",
    "# Os genes dos filhos são partes aleatórias tirada dos genes dos pais\n",
    "\n",
    "# A mutação do gene é mudar um item do gende do individuo filho\n",
    "\n",
    "# Função objetivo: maximizar\n",
    "\n",
    "# Função de aptidão: função que verifica se o gene do individuo está próximo do objetivo\n",
    "\n",
    "# Função crossover: gera o filho\n",
    "\n",
    "# Função mutação: muta uma linha do filho"
   ]
  },
  {
   "cell_type": "code",
   "execution_count": 14,
   "metadata": {},
   "outputs": [],
   "source": [
    "# Função objetivo\n",
    "def f_objetivo(df):\n",
    "    valor_total = df['Valor'].sum() # Valor total do gene do indivíduo\n",
    "    peso_total = df['Peso'].sum() # Peso total do gene do indivíduo  \n",
    "    return valor_total, peso_total"
   ]
  },
  {
   "cell_type": "code",
   "execution_count": 15,
   "metadata": {},
   "outputs": [],
   "source": [
    "# Gerar gene do indivíduo aleatório\n",
    "def f_aleatorio(df):\n",
    "    n_aleatorio = np.random.randint(1, df.shape[0]+1) # Quantidade dos genes a serem escolhidos\n",
    "    df_aleatorio = df.sample(n = n_aleatorio) # Gera o gene do individuo \n",
    "    return df_aleatorio"
   ]
  },
  {
   "cell_type": "code",
   "execution_count": 16,
   "metadata": {},
   "outputs": [],
   "source": [
    "# Função aptidão\n",
    "def f_aptidao(df_gene, capacidade): \n",
    "    valor = f_objetivo(df_gene)[0] # Valor total do indivíduo\n",
    "    peso = f_objetivo(df_gene)[1] # Peso total do individuo\n",
    "\n",
    "    # Ponderação que avalia se a escolha atende a capacidade máxima ou não\n",
    "    if peso <= capacidade:\n",
    "        podenracao = 1 # Se a escolha dos itens pesa igual ou menos que 15, o valor será 1\n",
    "    else:\n",
    "        podenracao = 0 # Se a escolha dos itens pesa mais que 15, o valor será 0\n",
    "\n",
    "    aptidao = podenracao*(valor + peso) # Quanto maior o resultado, mais apto ele será \n",
    "    # Aptidão: maximar o valor e verifica se o peso atende capacidade máxima \n",
    "    return aptidao"
   ]
  },
  {
   "cell_type": "code",
   "execution_count": 17,
   "metadata": {},
   "outputs": [],
   "source": [
    "# Realiza o crossover\n",
    "def f_crossover(df_pai_1, df_pai_2): # Crossover do pai 1 (df_x) e pai 2 (df_y)\n",
    "    df_gene_pai_1_aleatorio = f_aleatorio(df_pai_1) # Coleta uma parte do gene do pai 1\n",
    "    df_gene_pai_2_aleatorio = f_aleatorio(df_pai_2) # Coleta uma parte do gene do pai 2\n",
    "    df_concat = pd.concat([df_gene_pai_1_aleatorio, df_gene_pai_2_aleatorio]) # Concatena as partes dos pais\n",
    "    df_gene_filho = df_concat.drop_duplicates() # Remove-se linhas duplicadas\n",
    "    return df_gene_filho # Retorna o filho"
   ]
  },
  {
   "cell_type": "code",
   "execution_count": 18,
   "metadata": {},
   "outputs": [],
   "source": [
    "# Realiza a mutação\n",
    "def f_mutacao(df_gene, df_mochileiro):\n",
    "    linha = np.random.randint(0, df_gene.shape[0]) # Seleciona-se a linha que sofrerá mutação, somente uma única linha que será mutada\n",
    "    mutacao = df_mochileiro.sample(n = 1) # Seleciona-se o gene mutação\n",
    "    df_gene.iloc[linha] = mutacao # Realiza-se a mutação\n",
    "    df_gene = df_gene.drop_duplicates() # Remove-se duplicadas ??????????????? criar função pra selecionar a mutacao que nao esteja no df a ser mutacionado\n",
    "    return df_gene"
   ]
  },
  {
   "cell_type": "code",
   "execution_count": 19,
   "metadata": {},
   "outputs": [],
   "source": [
    "# Algoritmo genético\n",
    "def algoritmo_genetico(df_mochileiro, capacidade):\n",
    "    # Gera a população inicial\n",
    "    populacao = [f_aleatorio(df_mochileiro) for _ in range(50)] # n números da população inicial\n",
    "    \n",
    "    for _ in range(100):  # n números de gerações\n",
    "        # Avalia a aptidão da população\n",
    "        aptidao_populacao = [f_aptidao(df_gene = x, capacidade = capacidade) for x in populacao] # Calcula a aptidão de cada seleção de itens na população atual\n",
    "\n",
    "        # Seleciona os pais por torneio\n",
    "        parentes = random.choices(populacao, weights = aptidao_populacao, k = 100) # A função random.choices é usada para selecionar aleatoriamente 20 pais da população atual. A probabilidade de um indivíduo ser escolhido como pai é proporcional à sua aptidão. Isso significa que os indivíduos com maior aptidão têm uma maior probabilidade de serem escolhidos como pais.\n",
    "        \n",
    "        # Gera a próxima geração por crossover e mutação\n",
    "        nova_geracao = [f_mutacao(df_gene = f_crossover(random.choice(parentes), random.choice(parentes)), df_mochileiro = df_mochileiro) for _ in range(50)]\n",
    "\n",
    "        # Substitui a população atual pela próxima geração\n",
    "        populacao = nova_geracao\n",
    "    \n",
    "\n",
    "    f_aptidao_fixando_capacidade = partial(f_aptidao, capacidade = capacidade) # Fixa-se  a capacidade da função apitdão\n",
    "    resultado = max(populacao, key = f_aptidao_fixando_capacidade) # Implementa na última geração\n",
    "\n",
    "    # Retorna o melhor indivíduo da última geração\n",
    "    return resultado"
   ]
  },
  {
   "cell_type": "code",
   "execution_count": 20,
   "metadata": {},
   "outputs": [
    {
     "name": "stdout",
     "output_type": "stream",
     "text": [
      "   Item  Valor  Peso\n",
      "1     4      2     1\n",
      "1     2      2     2\n",
      "1     1      4    12\n"
     ]
    }
   ],
   "source": [
    "# Aplicação\n",
    "\n",
    "# Dados dos itens, valores e peso\n",
    "dado = {'Item': [1, 2, 3, 4, 5],\n",
    "        'Valor': [4, 2, 1, 2, 10],\n",
    "        'Peso': [12, 2, 1, 1, 4]}\n",
    " \n",
    "# Criando data frame\n",
    "df = pd.DataFrame(dado)\n",
    "\n",
    "# Atribuição do peso máximo a ser carregado na mochila\n",
    "capacidade_max = 15\n",
    "\n",
    "resultado = algoritmo_genetico(df_mochileiro = df, capacidade = capacidade_max)\n",
    "print(resultado)"
   ]
  }
 ],
 "metadata": {
  "kernelspec": {
   "display_name": "Python 3",
   "language": "python",
   "name": "python3"
  },
  "language_info": {
   "codemirror_mode": {
    "name": "ipython",
    "version": 3
   },
   "file_extension": ".py",
   "mimetype": "text/x-python",
   "name": "python",
   "nbconvert_exporter": "python",
   "pygments_lexer": "ipython3",
   "version": "3.11.2"
  }
 },
 "nbformat": 4,
 "nbformat_minor": 2
}
