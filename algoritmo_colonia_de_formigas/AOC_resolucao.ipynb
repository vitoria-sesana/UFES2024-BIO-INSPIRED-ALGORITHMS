{
 "cells": [
  {
   "cell_type": "code",
   "execution_count": 213,
   "metadata": {},
   "outputs": [],
   "source": [
    "import numpy as np"
   ]
  },
  {
   "cell_type": "code",
   "execution_count": 214,
   "metadata": {},
   "outputs": [],
   "source": [
    "# def matriz_espelhada_aleatoria(dimensao, valor_min, valor_max):\n",
    "#     # Cria uma matriz com valores aleatórios\n",
    "#     matriz = np.random.randint(valor_min, valor_max/2, size=(dimensao, dimensao))\n",
    "    \n",
    "#     # Define a diagonal principal como zero\n",
    "#     np.fill_diagonal(matriz, 0)\n",
    "\n",
    "#     # Espelha a matriz\n",
    "#     matriz_simetrica = (matriz + matriz.T)\n",
    "    \n",
    "#     return matriz_simetrica\n",
    "\n",
    "# # Dimensão da matriz distancia entre as cidades, com o valor mínimo e máximo das distancias\n",
    "# dimensao = num_cities\n",
    "# valor_min = 1\n",
    "# valor_max = 50\n",
    "\n",
    "# # Distâncias entre as cidades \n",
    "# distances = matriz_espelhada_aleatoria(dimensao, valor_min, valor_max)\n",
    "\n",
    "# print(distances)"
   ]
  },
  {
   "cell_type": "code",
   "execution_count": 215,
   "metadata": {},
   "outputs": [
    {
     "name": "stdout",
     "output_type": "stream",
     "text": [
      "[[ 0 21 25 ... 13 25 21]\n",
      " [21  0 40 ... 16  7 28]\n",
      " [25 40  0 ... 33 13 17]\n",
      " ...\n",
      " [13 16 33 ...  0 12 18]\n",
      " [25  7 13 ... 12  0 33]\n",
      " [21 28 17 ... 18 33  0]]\n"
     ]
    }
   ],
   "source": [
    "distances = np.loadtxt('matriz_adjacencia.txt', dtype=int)\n",
    "\n",
    "print(distances)"
   ]
  },
  {
   "cell_type": "code",
   "execution_count": 216,
   "metadata": {},
   "outputs": [],
   "source": [
    "# Parâmetros do ACO\n",
    "num_cities = 100  # Número de cidades\n",
    "num_ants = 15  # Número de formigas, definindo o número de soluções construídas por iteração\n",
    "num_iterations = 500 # Número de iterações, quanto maior, mais tempo o algoritmo tem para explorar o espaço de soluções, mas também mais tempo para convergir\n",
    "alpha = 1.0  # Importância dos feromônios\n",
    "beta = 5.0  # Importância da visibilidade (inverso da distância)\n",
    "evaporation_rate = 0.4  # Taxa de evaporação dos feromônios\n",
    "initial_pheromone = 1.0  # Valor inicial dos feromônios"
   ]
  },
  {
   "cell_type": "code",
   "execution_count": 217,
   "metadata": {},
   "outputs": [
    {
     "name": "stderr",
     "output_type": "stream",
     "text": [
      "C:\\Users\\lcex\\AppData\\Local\\Temp\\ipykernel_6632\\725916924.py:6: RuntimeWarning: divide by zero encountered in divide\n",
      "  visibility = 1 / distances\n"
     ]
    },
    {
     "name": "stdout",
     "output_type": "stream",
     "text": [
      "Melhor caminho encontrado: [39, 48, 24, 29, 37, 84, 87, 25, 45, 83, 81, 43, 76, 69, 34, 47, 58, 41, 97, 5, 31, 95, 78, 93, 85, 53, 40, 35, 32, 64, 79, 22, 75, 92, 26, 3, 27, 82, 55, 86, 17, 62, 4, 70, 91, 61, 2, 23, 96, 12, 38, 30, 10, 67, 94, 8, 59, 89, 33, 63, 52, 54, 1, 18, 11, 49, 16, 60, 21, 72, 28, 68, 19, 9, 66, 36, 90, 56, 20, 50, 51, 0, 71, 80, 65, 42, 6, 73, 57, 13, 46, 98, 14, 88, 77, 7, 99, 74, 15, 44, 39]\n",
      "Comprimento do melhor caminho: 618\n"
     ]
    }
   ],
   "source": [
    "# Inicialização da matriz de feromônios\n",
    "pheromones = np.full((num_cities, num_cities), initial_pheromone) # Inicializa a matriz de feromônios com o valor inicial\n",
    "\n",
    "# Função para calcular a visibilidade (inverso da distância)\n",
    "def calculate_visibility(distances):\n",
    "    visibility = 1 / distances\n",
    "    visibility[distances == 0] = 0  # Evitar divisão por zero, definindo visibilidade para distâncias iguais a zero como zero. Para cidade i, visibilidade[i, i] = 0\n",
    "    return visibility\n",
    "\n",
    "# Função para escolher a próxima cidade com base nas probabilidades\n",
    "def choose_next_city(pheromones, visibility, current_city, visited):    \n",
    "    probabilities = []\n",
    "    for city in range(num_cities):\n",
    "        if city not in visited:\n",
    "            pheromone = pheromones[current_city, city] ** alpha\n",
    "            vis = visibility[current_city, city] ** beta\n",
    "            probabilities.append(pheromone * vis)\n",
    "        else:\n",
    "            probabilities.append(0)\n",
    "    probabilities = probabilities / np.sum(probabilities)\n",
    "    next_city = np.random.choice(range(num_cities), p=probabilities)\n",
    "    return next_city\n",
    "\n",
    "# Função principal do ACO para o TSP\n",
    "def ant_colony_optimization(distances, num_ants, num_iterations, evaporation_rate):\n",
    "    num_cities = distances.shape[0] \n",
    "    pheromones = np.full((num_cities, num_cities), initial_pheromone)\n",
    "    visibility = calculate_visibility(distances)\n",
    "\n",
    "    best_path = None\n",
    "    best_path_length = float('inf')\n",
    "\n",
    "    for iteration in range(num_iterations):\n",
    "        all_paths = []\n",
    "        for ant in range(num_ants):\n",
    "            path = [np.random.randint(num_cities)]\n",
    "            while len(path) < num_cities:\n",
    "                next_city = choose_next_city(pheromones, visibility, path[-1], path)\n",
    "                path.append(next_city)\n",
    "            path.append(path[0])  # Retornar à cidade de origem\n",
    "            all_paths.append(path)\n",
    "\n",
    "        for path in all_paths:\n",
    "            path_length = sum(distances[path[i], path[i+1]] for i in range(num_cities))\n",
    "            if path_length < best_path_length:\n",
    "                best_path_length = path_length\n",
    "                best_path = path\n",
    "\n",
    "            for i in range(num_cities):\n",
    "                pheromones[path[i], path[i+1]] += 1.0 / path_length\n",
    "\n",
    "        pheromones *= (1 - evaporation_rate)\n",
    "\n",
    "    return best_path, best_path_length\n",
    "\n",
    "# Executar o ACO\n",
    "best_path, best_path_length = ant_colony_optimization(distances, num_ants, num_iterations, evaporation_rate)\n",
    "print(f\"Melhor caminho encontrado: {best_path}\")\n",
    "print(f\"Comprimento do melhor caminho: {best_path_length}\")"
   ]
  }
 ],
 "metadata": {
  "kernelspec": {
   "display_name": "Python 3",
   "language": "python",
   "name": "python3"
  },
  "language_info": {
   "codemirror_mode": {
    "name": "ipython",
    "version": 3
   },
   "file_extension": ".py",
   "mimetype": "text/x-python",
   "name": "python",
   "nbconvert_exporter": "python",
   "pygments_lexer": "ipython3",
   "version": "3.11.9"
  }
 },
 "nbformat": 4,
 "nbformat_minor": 2
}
