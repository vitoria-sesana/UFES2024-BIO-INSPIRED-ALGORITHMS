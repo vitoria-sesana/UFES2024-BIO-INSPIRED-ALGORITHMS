{
 "cells": [
  {
   "cell_type": "code",
   "execution_count": null,
   "metadata": {},
   "outputs": [],
   "source": [
    "import numpy as np"
   ]
  },
  {
   "cell_type": "code",
   "execution_count": null,
   "metadata": {},
   "outputs": [],
   "source": [
    "distances = np.loadtxt('matriz_adjacencia.txt', dtype=int)"
   ]
  },
  {
   "cell_type": "code",
   "execution_count": 1,
   "metadata": {},
   "outputs": [],
   "source": [
    "# Parâmetros do ACO\n",
    "num_cities = 100  # Número de cidades\n",
    "num_ants = 2  # Número de formigas, definindo o número de soluções construídas por iteração\n",
    "num_iterations = 100 # Número de iterações, quanto maior, mais tempo o algoritmo tem para explorar o espaço de soluções, mas também mais tempo para convergir\n",
    "alpha = 1.0  # Importância dos feromônios\n",
    "beta = 5.0  # Importância da visibilidade (inverso da distância)\n",
    "evaporation_rate = 0.4  # Taxa de evaporação dos feromônios\n",
    "initial_pheromone = 25.0  # Valor inicial dos feromônios"
   ]
  },
  {
   "cell_type": "code",
   "execution_count": null,
   "metadata": {},
   "outputs": [],
   "source": [
    "# Inicialização da matriz de feromônios\n",
    "pheromones = np.full((num_cities, num_cities), initial_pheromone) # Inicializa a matriz de feromônios com o valor inicial\n",
    "\n",
    "# Função para calcular a visibilidade (inverso da distância)\n",
    "def calculate_visibility(distances):\n",
    "    visibility = 1 / distances\n",
    "    visibility[distances == 0] = 0  # Evitar divisão por zero, definindo visibilidade para distâncias iguais a zero como zero. Para cidade i, visibilidade[i, i] = 0\n",
    "    return visibility\n",
    "\n",
    "# Função para escolher a próxima cidade com base nas probabilidades\n",
    "def choose_next_city(pheromones, visibility, current_city, visited):    \n",
    "    probabilities = []\n",
    "    for city in range(num_cities):\n",
    "        if city not in visited:\n",
    "            pheromone = pheromones[current_city, city] ** alpha\n",
    "            vis = visibility[current_city, city] ** beta\n",
    "            probabilities.append(pheromone * vis)\n",
    "        else:\n",
    "            probabilities.append(0)\n",
    "    probabilities = probabilities / np.sum(probabilities)\n",
    "    next_city = np.random.choice(range(num_cities), p=probabilities)\n",
    "    return next_city\n",
    "\n",
    "# Função principal do ACO para o TSP\n",
    "def ant_colony_optimization(distances, num_ants, num_iterations, evaporation_rate):\n",
    "    num_cities = distances.shape[0] # número de cidades\n",
    "    pheromones = np.full((num_cities, num_cities), initial_pheromone)\n",
    "    visibility = calculate_visibility(distances) # calcula a visibilidade \n",
    "\n",
    "    best_path = None\n",
    "    best_path_length = float('inf')\n",
    "\n",
    "    for iteration in range(num_iterations):\n",
    "        all_paths = []\n",
    "        for ant in range(num_ants):\n",
    "            path = [np.random.randint(num_cities)] # cidade aleatória a percorrer\n",
    "            while len(path) < num_cities:\n",
    "                next_city = choose_next_city(pheromones, visibility, path[-1], path)\n",
    "                path.append(next_city)\n",
    "            path.append(path[0])  # Retornar à cidade de origem\n",
    "            all_paths.append(path)\n",
    "\n",
    "        for path in all_paths:\n",
    "            path_length = sum(distances[path[i], path[i+1]] for i in range(num_cities))\n",
    "            if path_length < best_path_length:\n",
    "                best_path_length = path_length\n",
    "                best_path = path\n",
    "\n",
    "            for i in range(num_cities):\n",
    "                pheromones[path[i], path[i+1]] += 1.0 / path_length\n",
    "\n",
    "        pheromones *= (1 - evaporation_rate)\n",
    "\n",
    "    return best_path, best_path_length"
   ]
  },
  {
   "cell_type": "code",
   "execution_count": null,
   "metadata": {},
   "outputs": [],
   "source": [
    "## Executar o ACO pela primeira vez para gerar um melhor caminho\n",
    "# best_path, best_path_length = ant_colony_optimization(distances, num_ants, num_iterations, evaporation_rate, best_path = None)\n",
    "# print(f\"Melhor caminho encontrado: {best_path}\")\n",
    "# print(f\"Comprimento do melhor caminho: {best_path_length}\")\n",
    "\n",
    "# np.savetxt(\"melhor_caminho.txt\", best_path)\n",
    "# 657"
   ]
  },
  {
   "cell_type": "code",
   "execution_count": null,
   "metadata": {},
   "outputs": [],
   "source": [
    "# Executar o ACO pela segunda vez utilizando um caminho que foi achado ateriormente\n",
    "\n",
    "# caminho_base = np.loadtxt('melhor_caminho.txt', dtype=int)\n",
    "\n",
    "# best_path, best_path_length = ant_colony_optimization(distances, num_ants, num_iterations, evaporation_rate)\n",
    "# print(f\"Melhor caminho encontrado: {best_path}\")\n",
    "# print(f\"Comprimento do melhor caminho: {best_path_length}\")\n"
   ]
  }
 ],
 "metadata": {
  "kernelspec": {
   "display_name": "Python 3",
   "language": "python",
   "name": "python3"
  },
  "language_info": {
   "codemirror_mode": {
    "name": "ipython",
    "version": 3
   },
   "file_extension": ".py",
   "mimetype": "text/x-python",
   "name": "python",
   "nbconvert_exporter": "python",
   "pygments_lexer": "ipython3",
   "version": "3.12.3"
  }
 },
 "nbformat": 4,
 "nbformat_minor": 2
}
